{
 "cells": [
  {
   "cell_type": "code",
   "execution_count": null,
   "id": "8024e208-2310-449f-8d1a-501cde6e08e2",
   "metadata": {},
   "outputs": [],
   "source": [
    "import pandas as pd\n",
    "!pip install ethnicolr\n",
    "import ethnicolr"
   ]
  },
  {
   "cell_type": "code",
   "execution_count": null,
   "id": "6d14ee02",
   "metadata": {},
   "outputs": [],
   "source": [
    "names = pd.read_csv('unique_names.csv')"
   ]
  },
  {
   "cell_type": "code",
   "execution_count": null,
   "id": "c071f485-d548-474c-9b24-fe314c59614f",
   "metadata": {},
   "outputs": [],
   "source": [
    "names_ethnicity = ethnicolr.pred_wiki_name(names, 'lastName', 'firstName', conf_int = .9)\n",
    "names_race = ethnicolr.pred_fl_reg_name_five_cat(names, 'lastName', 'firstName', conf_int = .9)"
   ]
  },
  {
   "cell_type": "code",
   "execution_count": null,
   "id": "9620130f",
   "metadata": {},
   "outputs": [],
   "source": [
    "names_ethnicity.to_csv('names_ethnicity.csv')\n",
    "names_race.to_csv('names_race.csv')"
   ]
  }
 ],
 "metadata": {
  "kernelspec": {
   "display_name": "Python 3 (ipykernel)",
   "language": "python",
   "name": "python3"
  },
  "language_info": {
   "codemirror_mode": {
    "name": "ipython",
    "version": 3
   },
   "file_extension": ".py",
   "mimetype": "text/x-python",
   "name": "python",
   "nbconvert_exporter": "python",
   "pygments_lexer": "ipython3",
   "version": "3.9.13"
  }
 },
 "nbformat": 4,
 "nbformat_minor": 5
}
